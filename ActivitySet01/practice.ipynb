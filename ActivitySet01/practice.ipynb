{
 "cells": [
  {
   "cell_type": "markdown",
   "metadata": {},
   "source": [
    "Day:11-07-22"
   ]
  },
  {
   "cell_type": "code",
   "execution_count": 9,
   "metadata": {},
   "outputs": [
    {
     "name": "stdout",
     "output_type": "stream",
     "text": [
      "<re.Match object; span=(5, 7), match='ai'>\n"
     ]
    }
   ],
   "source": [
    "import re \n",
    "txt = \"The rain in spain\"\n",
    "x = re.search(\"ai\", txt)\n",
    "print(x)"
   ]
  },
  {
   "cell_type": "code",
   "execution_count": 8,
   "metadata": {},
   "outputs": [
    {
     "name": "stdout",
     "output_type": "stream",
     "text": [
      "['ai', 'ai']\n"
     ]
    }
   ],
   "source": [
    "import re \n",
    "txt = \"The rain in spain\"\n",
    "x = re.findall(\"ai\", txt)\n",
    "print(x)"
   ]
  },
  {
   "cell_type": "code",
   "execution_count": 7,
   "metadata": {},
   "outputs": [
    {
     "name": "stdout",
     "output_type": "stream",
     "text": [
      "['The r', 'n in sp', 'n']\n"
     ]
    }
   ],
   "source": [
    "import re \n",
    "txt = \"The rain in spain\"\n",
    "x = re.split(\"ai\", txt)\n",
    "print(x)"
   ]
  },
  {
   "cell_type": "code",
   "execution_count": 30,
   "metadata": {},
   "outputs": [
    {
     "name": "stdout",
     "output_type": "stream",
     "text": [
      "That will be 59 dollars\n"
     ]
    }
   ],
   "source": [
    "import re \n",
    "txt=\"That will be 59 dollars\"\n",
    "x=re.sub(\"ai\",\"AI\",txt)\n",
    "print(x)"
   ]
  },
  {
   "cell_type": "code",
   "execution_count": 32,
   "metadata": {},
   "outputs": [
    {
     "name": "stdout",
     "output_type": "stream",
     "text": [
      "[]\n"
     ]
    }
   ],
   "source": [
    "x=re.findall(\"/d\",txt)\n",
    "print(x)"
   ]
  },
  {
   "cell_type": "code",
   "execution_count": 36,
   "metadata": {},
   "outputs": [
    {
     "name": "stdout",
     "output_type": "stream",
     "text": [
      "['spain']\n"
     ]
    }
   ],
   "source": [
    "import re\n",
    "txt=\"rain in spain\"\n",
    "x=re.findall(\"sp..n\",txt)\n",
    "print(x)"
   ]
  },
  {
   "cell_type": "code",
   "execution_count": 53,
   "metadata": {},
   "outputs": [
    {
     "name": "stdout",
     "output_type": "stream",
     "text": [
      "['bc']\n"
     ]
    }
   ],
   "source": [
    "import re\n",
    "txt=\"abc\"\n",
    "x=re.findall(\"\",txt)\n",
    "print(x)"
   ]
  },
  {
   "cell_type": "code",
   "execution_count": 42,
   "metadata": {},
   "outputs": [
    {
     "name": "stdout",
     "output_type": "stream",
     "text": [
      "[]\n"
     ]
    }
   ],
   "source": [
    "x=re.findall(\"\",txt)\n",
    "print(x)"
   ]
  },
  {
   "cell_type": "markdown",
   "metadata": {},
   "source": [
    "Day:13-7-22"
   ]
  },
  {
   "cell_type": "code",
   "execution_count": 2,
   "metadata": {},
   "outputs": [
    {
     "name": "stdout",
     "output_type": "stream",
     "text": [
      "100\n",
      "<function _318.learn at 0x000001A06B80F0A0>\n"
     ]
    }
   ],
   "source": [
    "class _318:\n",
    "    bench = 100\n",
    "    monitor = 1\n",
    "    def learn(self):\n",
    "        print(\"Hi Python\")\n",
    "print(_318.bench)\n",
    "print(_318.learn)\n",
    "    \n"
   ]
  },
  {
   "cell_type": "code",
   "execution_count": null,
   "metadata": {},
   "outputs": [],
   "source": [
    "a = _318()\n",
    "print(a.bench)\n",
    "print(a.monitor)\n",
    "a.learn()"
   ]
  },
  {
   "cell_type": "code",
   "execution_count": 7,
   "metadata": {},
   "outputs": [
    {
     "name": "stdout",
     "output_type": "stream",
     "text": [
      "None\n"
     ]
    }
   ],
   "source": [
    "print(_318.__doc__)"
   ]
  },
  {
   "cell_type": "code",
   "execution_count": 9,
   "metadata": {},
   "outputs": [
    {
     "name": "stdout",
     "output_type": "stream",
     "text": [
      "None\n"
     ]
    }
   ],
   "source": [
    "class Myclass:\n",
    "    a=10\n",
    "    def func(self):\n",
    "        print(\"Hi ECE\")\n",
    "print(Myclass.__doc__)"
   ]
  },
  {
   "cell_type": "markdown",
   "metadata": {},
   "source": [
    "Day: 18-7-22"
   ]
  },
  {
   "cell_type": "code",
   "execution_count": 1,
   "metadata": {},
   "outputs": [],
   "source": [
    "class student():\n",
    "    def __init__(self,srn,name):\n",
    "        self.srn=srn\n",
    "        self.name=name\n",
    "    def display(self):\n",
    "        print(\"My name is {0} and SRN is {1}\".format(self.name,self.srn))\n",
    "        "
   ]
  },
  {
   "cell_type": "code",
   "execution_count": 26,
   "metadata": {},
   "outputs": [
    {
     "name": "stdout",
     "output_type": "stream",
     "text": [
      "My name is Siddharth and SRN is R21EF263\n",
      "My name is Suhas and SRN is R21EF272\n"
     ]
    }
   ],
   "source": [
    "s1=student(\"R21EF263\",\"Siddharth\")\n",
    "s1.display()\n",
    "s2=student(\"R21EF272\",\"Suhas\")\n",
    "s2.display()"
   ]
  },
  {
   "cell_type": "code",
   "execution_count": 2,
   "metadata": {},
   "outputs": [
    {
     "name": "stdout",
     "output_type": "stream",
     "text": [
      "selling price is 20\n"
     ]
    }
   ],
   "source": [
    "class computer():\n",
    "    def __init__(self):\n",
    "        self.__maxprice = 900\n",
    "    def sell(self):\n",
    "        print(\"selling price is\",self.__maxprice)\n",
    "    def setmaxprice(self, price):\n",
    "        self.__maxprice = price\n",
    "c1=computer()\n",
    "c1.setmaxprice(20)\n",
    "c1.sell()\n",
    "\n"
   ]
  },
  {
   "cell_type": "markdown",
   "metadata": {},
   "source": [
    "Day:20-7-22"
   ]
  },
  {
   "cell_type": "code",
   "execution_count": 3,
   "metadata": {},
   "outputs": [
    {
     "name": "stdout",
     "output_type": "stream",
     "text": [
      "Triangle has 3 sides\n",
      "Pentagon has 5 sides\n"
     ]
    }
   ],
   "source": [
    "class Polygon:\n",
    "    def sides(self):\n",
    "        pass\n",
    "\n",
    "class Triangle(Polygon):\n",
    "    def sides(self):\n",
    "        print(\"Triangle has 3 sides\")\n",
    "\n",
    "class Pentagon(Polygon):\n",
    "    def sides(self):\n",
    "        print(\"Pentagon has 5 sides\")\n",
    "\n",
    "t=Triangle()\n",
    "t.sides()\n",
    "p=Pentagon()\n",
    "p.sides()"
   ]
  },
  {
   "cell_type": "code",
   "execution_count": 5,
   "metadata": {},
   "outputs": [
    {
     "name": "stdout",
     "output_type": "stream",
     "text": [
      "Name = Shiva\n",
      "Name = Supreeth\n",
      "Python Programming\n"
     ]
    }
   ],
   "source": [
    "class User:\n",
    "    def __init__(self, name):\n",
    "        self.name = name\n",
    "    def printname(self):\n",
    "        print(\"Name = \" + self.name)\n",
    "\n",
    "class programmer(User):\n",
    "    def __init__(self, name):\n",
    "        self.name = name\n",
    "    def display(self):\n",
    "        print(\"Python Programming\")\n",
    "\n",
    "u1 = User(\"Shiva\")\n",
    "u1.printname()\n",
    "u2 = programmer(\"Supreeth\")\n",
    "u2.printname()\n",
    "u2.display()\n"
   ]
  },
  {
   "cell_type": "code",
   "execution_count": 6,
   "metadata": {},
   "outputs": [
    {
     "name": "stdout",
     "output_type": "stream",
     "text": [
      "Parrots can fly\n",
      "Parrots can't swim\n",
      "Penguins can't fly\n",
      "Penguins can swim\n"
     ]
    }
   ],
   "source": [
    "class Parrot:\n",
    "    def fly(self):\n",
    "        print(\"Parrots can fly\")\n",
    "    def swim(self):\n",
    "        print(\"Parrots can't swim\")\n",
    "\n",
    "class Penguin:\n",
    "    def fly(self):\n",
    "        print(\"Penguins can't fly\")\n",
    "    def swim(self):\n",
    "        print(\"Penguins can swim\")\n",
    "\n",
    "def flyingtest(bird):\n",
    "    bird.fly()\n",
    "    bird.swim()\n",
    "\n",
    "p = Parrot()\n",
    "q = Penguin()\n",
    "flyingtest(p)\n",
    "flyingtest(q)\n"
   ]
  }
 ],
 "metadata": {
  "kernelspec": {
   "display_name": "Python 3.10.4 64-bit",
   "language": "python",
   "name": "python3"
  },
  "language_info": {
   "codemirror_mode": {
    "name": "ipython",
    "version": 3
   },
   "file_extension": ".py",
   "mimetype": "text/x-python",
   "name": "python",
   "nbconvert_exporter": "python",
   "pygments_lexer": "ipython3",
   "version": "3.10.5"
  },
  "orig_nbformat": 4,
  "vscode": {
   "interpreter": {
    "hash": "cc24e771aee7caf473c962ac5b583c9aedb01b2d29546d17b198826621475062"
   }
  }
 },
 "nbformat": 4,
 "nbformat_minor": 2
}
